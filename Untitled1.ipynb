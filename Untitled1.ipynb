{
 "cells": [
  {
   "cell_type": "code",
   "execution_count": 1,
   "metadata": {},
   "outputs": [
    {
     "name": "stdout",
     "output_type": "stream",
     "text": [
      "a\n"
     ]
    }
   ],
   "source": [
    "print('a')"
   ]
  },
  {
   "cell_type": "code",
   "execution_count": 4,
   "metadata": {},
   "outputs": [
    {
     "name": "stdout",
     "output_type": "stream",
     "text": [
      "3\n"
     ]
    }
   ],
   "source": [
    "a = ['a', 'b', 'c']\n",
    "print(len(a))"
   ]
  },
  {
   "cell_type": "code",
   "execution_count": 12,
   "metadata": {},
   "outputs": [
    {
     "name": "stdout",
     "output_type": "stream",
     "text": [
      "break가 실행되지 않았습니다\n",
      "b를 찾았습니다\n",
      "['a']\n",
      "continue가 실행되지 않았습니다\n",
      "b를 찾았습니다\n",
      "continue가 실행되지 않았습니다\n",
      "['a', 'c']\n"
     ]
    }
   ],
   "source": [
    "t = []\n",
    "\n",
    "for s in a:\n",
    "    if 'b' in s:\n",
    "        print('b를 찾았습니다')\n",
    "        break\n",
    "    print('break가 실행되지 않았습니다')\n",
    "    t.append(s)\n",
    "print(t)\n",
    "\n",
    "z = []\n",
    "\n",
    "for s in a:\n",
    "    if 'b' in s:\n",
    "        print('b를 찾았습니다')\n",
    "        continue\n",
    "    print('continue가 실행되지 않았습니다')\n",
    "    z.append(s)\n",
    "print(z)"
   ]
  },
  {
   "cell_type": "code",
   "execution_count": null,
   "metadata": {},
   "outputs": [],
   "source": []
  },
  {
   "cell_type": "code",
   "execution_count": null,
   "metadata": {},
   "outputs": [],
   "source": []
  }
 ],
 "metadata": {
  "kernelspec": {
   "display_name": "Python 3",
   "language": "python",
   "name": "python3"
  },
  "language_info": {
   "codemirror_mode": {
    "name": "ipython",
    "version": 3
   },
   "file_extension": ".py",
   "mimetype": "text/x-python",
   "name": "python",
   "nbconvert_exporter": "python",
   "pygments_lexer": "ipython3",
   "version": "3.6.5"
  }
 },
 "nbformat": 4,
 "nbformat_minor": 2
}
